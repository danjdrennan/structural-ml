{
 "cells": [
  {
   "cell_type": "code",
   "execution_count": null,
   "id": "aeda62bc-2b03-4599-b57a-9d384835326d",
   "metadata": {
    "editable": true,
    "slideshow": {
     "slide_type": ""
    },
    "tags": []
   },
   "outputs": [],
   "source": [
    "#!pip install matplotlib\n",
    "#!pip install jupyter-resource-usage"
   ]
  },
  {
   "cell_type": "code",
   "execution_count": 13,
   "id": "95d6a8da-c07c-4e60-8f5e-f0efcfb43b1d",
   "metadata": {
    "editable": true,
    "slideshow": {
     "slide_type": ""
    },
    "tags": []
   },
   "outputs": [],
   "source": [
    "import torch\n",
    "import os\n",
    "os.environ[\"XLA_FLAGS\"] = \"--xla_force_host_platform_device_count=8\"\n",
    "import jax\n",
    "jax.config.update('jax_array', True)\n",
    "import jax.numpy as jnp\n",
    "import jax.scipy\n",
    "import numpy as np\n",
    "# Requires 'pip install jaxwt'; jaxwt is JAX-accelerated subset of PyWavelet package (pywt)\n",
    "import jaxwt as jwt\n",
    "import pywt\n",
    "#\n",
    "from scipy import signal as sgnl\n",
    "from scipy import ndimage\n",
    "from scipy.interpolate import interp1d\n",
    "#\n",
    "import matplotlib.pyplot as plt\n",
    "from matplotlib.colors import Normalize, LogNorm, NoNorm\n",
    "from matplotlib.cm import get_cmap\n",
    "from mpl_toolkits.axes_grid1.inset_locator import inset_axes"
   ]
  },
  {
   "cell_type": "code",
   "execution_count": 2,
   "id": "5b4555ef-d1c1-4cb4-bd6c-d8d4cfe0cc8a",
   "metadata": {},
   "outputs": [],
   "source": [
    "# From the original FileMaker.py\n",
    "def open_txt(filename):\n",
    "    \"\"\"\n",
    "    fs: Sample Rate\n",
    "    dt: sample step 1/fs\n",
    "    length: number of samples at each point\n",
    "    comp: the measurment component represented in the values array\n",
    "    data_shape: shape of overall array, can be ignored just used to \n",
    "                reshape array on opening from binary\n",
    "    x: X location of measurement\n",
    "    y: Y location of measurement\n",
    "    z: Z location of measurement\n",
    "    values: All values from file, row index corresponds to location\n",
    "    \"\"\"\n",
    "    with open(filename, 'rb') as f:\n",
    "        info = f.read(128).decode('ascii').split('\\n')\n",
    "        data = jnp.frombuffer(f.read(), jnp.float16)\n",
    "    data_dict = {'fs': eval(info[0]), 'dt': eval(info[1]),\n",
    "                 'length': eval(info[2]), 'comp': info[3],\n",
    "                 'data_shape': eval(info[4])}\n",
    "\n",
    "    data = data[448:].reshape(data_dict['data_shape'])\n",
    "    data_dict['x'] = data[:, 0]\n",
    "    data_dict['y'] = data[:, 1]\n",
    "    data_dict['z'] = data[:, 2]\n",
    "    data_dict['values'] = data[:, 3:]\n",
    "    return data_dict"
   ]
  },
  {
   "cell_type": "code",
   "execution_count": 19,
   "id": "150491ff-ef01-4b70-a4d9-3c5fc6f3ba00",
   "metadata": {},
   "outputs": [
    {
     "name": "stdout",
     "output_type": "stream",
     "text": [
      "dict_keys(['fs', 'dt', 'length', 'comp', 'data_shape', 'x', 'y', 'z', 'values'])\n",
      "(105, 9999997)\n",
      "Time step is 8e-07 seconds\n",
      "\n",
      "Data of shape (105, 10000000) contains 10000000 time points and (105,) spatial locations\n",
      "\n"
     ]
    }
   ],
   "source": [
    "xcomp_rough_480lb_10v_file = \"/scratch/group/statconsult/dataset/SmallMonolithWN/RoughCut/480 lbin Cut_txt/Hanging_480lbin_ampVolts10_x.txt\"\n",
    "\n",
    "xcomp_rough_480lb_10v = open_txt(xcomp_rough_480lb_10v_file)\n",
    "\n",
    "print(xcomp_rough_480lb_10v.keys())\n",
    "print(xcomp_rough_480lb_10v['values'].shape)\n",
    "print(f\"Time step is {xcomp_rough_480lb_10v['dt']} seconds\\n\")\n",
    "print(f\"Data of shape {xcomp_rough_480lb_10v['data_shape']} contains {xcomp_rough_480lb_10v['length']} time points and {xcomp_rough_480lb_10v['x'].shape} spatial locations\\n\")"
   ]
  },
  {
   "cell_type": "code",
   "execution_count": null,
   "id": "d340a35a-3ac7-4554-bda4-457cce5dbcdc",
   "metadata": {},
   "outputs": [],
   "source": [
    "# 1D discrete FFT over time axis\n",
    "fft_example = jnp.fft.fftn(xcomp_rough_480lb_10v['values'], axes = [1])\n",
    "\n",
    "print(f\"Resulting FFT has shape {fft_example.shape}\")"
   ]
  },
  {
   "cell_type": "markdown",
   "id": "fbc0d5db-a50e-42e7-a09a-c6b7e610a364",
   "metadata": {},
   "source": [
    "For a given experimental setting (fixed voltage, cut state, torque, etc); we have data of a shape that looks like:\n",
    "\n",
    "(number of signals, number of components, length of signals)\n",
    "\n",
    "In our data, the number of signals is the number of spatial locations (about 105), the length is the number of time steps (about 10 million), and the number of components is 3 (for x, y, and z without doing a transform)\n",
    "\n",
    "Here, we examine doing a discrete wavelet transform for each signal and component. We summarize the resulting coefficients with a variety of different statistics in order to effectively 'compress' the information down."
   ]
  },
  {
   "cell_type": "code",
   "execution_count": 4,
   "id": "9979b69b-fad3-4e55-84ed-9cf2adcc6231",
   "metadata": {},
   "outputs": [],
   "source": [
    "# Wavelet analysis #\n",
    "@jax.jit\n",
    "def compressed_features(coeff_array):\n",
    "    coeff_array = coeff_array.squeeze()\n",
    "    mean = jnp.nanmean(coeff_array)\n",
    "    median = jnp.nanpercentile(coeff_array, 50)\n",
    "    std = jnp.nanstd(coeff_array)\n",
    "    perc05 = jnp.nanpercentile(coeff_array, 5)\n",
    "    perc25 = jnp.nanpercentile(coeff_array, 25)\n",
    "    perc75 = jnp.nanpercentile(coeff_array, 75)\n",
    "    perc95 = jnp.nanpercentile(coeff_array, 95)\n",
    "    perc_crosses_zero = (jnp.count_nonzero(jnp.diff(coeff_array > 0)))/coeff_array.shape[0]\n",
    "    perc_crosses_mean = (jnp.count_nonzero(jnp.diff(coeff_array > mean)))/coeff_array.shape[0]\n",
    "    return jnp.array([mean, median, std, perc05, perc25, perc75, perc95, perc_crosses_zero, perc_crosses_mean])\n",
    "\n",
    "@jax.jit\n",
    "def extract_wavelet_coeffs(signal, waveletname = 'haar'):\n",
    "    coeffs = jwt.wavedec(signal, waveletname, level = 5)\n",
    "    features = jnp.concatenate([compressed_features(coeff) for coeff in coeffs])\n",
    "    return features\n",
    "    "
   ]
  },
  {
   "cell_type": "code",
   "execution_count": 5,
   "id": "aa845dcc-c622-4ec6-a926-36e5fec7739a",
   "metadata": {},
   "outputs": [
    {
     "name": "stdout",
     "output_type": "stream",
     "text": [
      "[ 0.00000000e+00  4.38094139e-05  4.15039062e-03 -4.85992432e-03\n",
      " -1.96838379e-03  2.06184387e-03  4.97055054e-03  5.80160022e-01\n",
      "  5.80160022e-01  0.00000000e+00  2.68220901e-06  3.74984741e-03\n",
      " -5.61523438e-03 -2.29263306e-03  2.30598450e-03  5.63049316e-03\n",
      "  5.36745608e-01  5.36745608e-01  0.00000000e+00 -6.73532486e-06\n",
      "  9.72747803e-03 -1.58538818e-02 -6.48117065e-03  6.48880005e-03\n",
      "  1.58538818e-02  2.77363211e-01  2.77363211e-01  0.00000000e+00\n",
      " -1.21593475e-05  1.06277466e-02 -1.73797607e-02 -7.11441040e-03\n",
      "  7.13348389e-03  1.74102783e-02  5.25674403e-01  5.25674403e-01\n",
      "  0.00000000e+00  2.68220901e-06  7.69424438e-03 -1.25885010e-02\n",
      " -5.14221191e-03  5.15365601e-03  1.25961304e-02  6.06627226e-01\n",
      "  6.06627226e-01 -0.00000000e+00  0.00000000e+00  4.20761108e-03\n",
      " -6.79779053e-03 -2.77137756e-03  2.76947021e-03  6.80160522e-03\n",
      "  6.30391955e-01  6.30391955e-01]\n"
     ]
    }
   ],
   "source": [
    "test = extract_wavelet_coeffs(xcomp_rough_480lb_10v['values'][1,:])\n",
    "print(test)"
   ]
  },
  {
   "cell_type": "code",
   "execution_count": 11,
   "id": "cb17d8fd-5ba1-4a6f-b1ab-52409ffb3b36",
   "metadata": {},
   "outputs": [
    {
     "name": "stdout",
     "output_type": "stream",
     "text": [
      "[CpuDevice(id=0), CpuDevice(id=1), CpuDevice(id=2), CpuDevice(id=3), CpuDevice(id=4), CpuDevice(id=5), CpuDevice(id=6), CpuDevice(id=7)]\n",
      "8\n"
     ]
    }
   ],
   "source": [
    "print(jax.devices())\n",
    "print(jax.local_device_count())"
   ]
  },
  {
   "cell_type": "code",
   "execution_count": 9,
   "id": "6e7fd33c-abbb-4c6c-a2d2-37fac8c9cdba",
   "metadata": {},
   "outputs": [],
   "source": [
    "full_wavelet_coeffs = jax.vmap(extract_wavelet_coeffs)(xcomp_rough_480lb_10v['values'])"
   ]
  },
  {
   "cell_type": "markdown",
   "id": "8261cd32-fa73-4274-8e3d-cc6dc6757412",
   "metadata": {},
   "source": [
    "The above returns an array of size (number of locations, number of extracted features); combine with the other 2 components of motion to get \n",
    "(nlocs, n_extracted*3)\n",
    "\n",
    "Then, we have a standard tabular data set! Stick whatever other predictors / responses you want and fit any out of the box model."
   ]
  },
  {
   "cell_type": "code",
   "execution_count": 10,
   "id": "0a38bd1b-694c-4459-9b37-0550541fd54c",
   "metadata": {},
   "outputs": [
    {
     "name": "stdout",
     "output_type": "stream",
     "text": [
      "(105, 54)\n"
     ]
    }
   ],
   "source": [
    "print(full_wavelet_coeffs.shape)"
   ]
  }
 ],
 "metadata": {
  "kernelspec": {
   "display_name": "Python 3 (ipykernel)",
   "language": "python",
   "name": "python3"
  },
  "language_info": {
   "codemirror_mode": {
    "name": "ipython",
    "version": 3
   },
   "file_extension": ".py",
   "mimetype": "text/x-python",
   "name": "python",
   "nbconvert_exporter": "python",
   "pygments_lexer": "ipython3",
   "version": "3.10.4"
  }
 },
 "nbformat": 4,
 "nbformat_minor": 5
}
