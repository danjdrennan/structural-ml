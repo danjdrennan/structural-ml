{
 "cells": [
  {
   "cell_type": "code",
   "execution_count": null,
   "id": "f111a119-cef5-4bac-bcbf-3e78d2a26645",
   "metadata": {},
   "outputs": [],
   "source": [
    "import os\n",
    "import re\n",
    "from dataclasses import dataclass\n",
    "from glob import glob\n",
    "from pathlib import Path\n",
    "from typing import Iterable\n",
    "\n",
    "import numpy as np\n",
    "import xarray as xr\n",
    "import matplotlib.pyplot as plt"
   ]
  },
  {
   "cell_type": "code",
   "execution_count": null,
   "id": "425cfb25-3e26-49d2-8a48-78fbdab87a1f",
   "metadata": {},
   "outputs": [],
   "source": [
    "basedir = Path(\"../../group/statconsult/wavelet_extraction/output/\")\n",
    "subdirs = [\"RoughCut\", \"SmoothCut\", \"SinglePiece_Hanging\"]\n",
    "os.listdir(basedir)"
   ]
  },
  {
   "cell_type": "code",
   "execution_count": null,
   "metadata": {},
   "outputs": [],
   "source": [
    "pattern = re.compile(\"(\\d+)\")"
   ]
  },
  {
   "cell_type": "code",
   "execution_count": null,
   "metadata": {},
   "outputs": [],
   "source": [
    "with open(\"../filetree.txt\", \"r\") as f:\n",
    "    dirs = f.readlines()\n",
    "vdir = {\n",
    "    dirs[0].strip(): [_.strip() for _ in dirs[1:151]],\n",
    "    dirs[151].strip(): [_.strip() for _ in dirs[152:302]],\n",
    "    dirs[302].strip(): [_.strip() for _ in dirs[302:]],\n",
    "}"
   ]
  },
  {
   "cell_type": "code",
   "execution_count": null,
   "id": "b1cee5b0-c97f-4614-974f-965542d9ae1a",
   "metadata": {},
   "outputs": [],
   "source": [
    "@dataclass\n",
    "class NameComponents:\n",
    "    cut_state: str\n",
    "    torque: float\n",
    "    volts: float\n",
    "    component: str\n",
    "\n",
    "\n",
    "def load_data(file_name: str, file_path: Path) -> np.ndarray:\n",
    "    return np.random.normal(size=(112, 121))\n",
    "\n",
    "\n",
    "def get_nums(file_name: str, pattern: re.Pattern) -> tuple[float, float]:\n",
    "    regex = pattern.findall(file_name)\n",
    "    if len(regex) == 1:\n",
    "        return (0.0, float(regex[-1]))\n",
    "    elif len(regex) == 2:\n",
    "        return (float(regex[0]), float(regex[1]))\n",
    "    else:\n",
    "        raise ValueError(\"No numbers found in pattern\")\n",
    "\n",
    "\n",
    "def find_all_components(file_name: str, list_dir: list[str]) -> list[str]:\n",
    "    \"\"\"Pattern matches file_name to all files in dir.\"\"\"\n",
    "    filtered_names = filter(lambda x: file_name in x, list_dir)\n",
    "    return list(filtered_names)\n",
    "\n",
    "\n",
    "def read_component_files(files: list[str], file_path: Path) -> np.ndarray:\n",
    "    data = [load_data(file, file_path) for file in files]\n",
    "    return np.concatenate([d.reshape(1, *d.shape) for d in data], axis=0)\n",
    "\n",
    "\n",
    "def name_parser(\n",
    "    file_name: str, cut_state: str | None = None\n",
    ") -> tuple[str, NameComponents]:\n",
    "    cut_state = \"none\" if cut_state is None else cut_state\n",
    "    name_stem = file_name[:-5]\n",
    "    comp_ext = file_name.split(\"_\")[-1]\n",
    "    component, _ = comp_ext.split(\".\")\n",
    "    torque, volts = get_nums(file_name, pattern)\n",
    "    return name_stem, NameComponents(\n",
    "        cut_state=cut_state, torque=torque, volts=volts, component=component\n",
    "    )\n",
    "\n",
    "\n",
    "def get_torque_and_volt_vals(data_dir: Path) -> tuple[list, list]:\n",
    "    files = glob(\".npy\", root_dir=data_dir)\n",
    "    torques = []\n",
    "    volts = []\n",
    "    for f in files:\n",
    "        _, name = name_parser(f)\n",
    "        if name.torque not in torques:\n",
    "            torques.append(name.torque)\n",
    "        if name.volts not in volts:\n",
    "            volts.append(name.volts)\n",
    "    return sorted(torques), sorted(volts)\n",
    "\n",
    "\n",
    "def extract_data(data_dir: Path) -> np.ndarray:\n",
    "    copied_dir = glob(\".npy\", root_dir=data_dir)\n",
    "    torques, volts = get_torque_and_volt_vals(data_dir)\n",
    "    data_shape = load_data(copied_dir[0], data_dir).shape\n",
    "\n",
    "    data = np.empty((len(torques), len(volts), *data_shape))\n",
    "\n",
    "    while len(copied_dir) > 0:\n",
    "        files = find_all_components(copied_dir[0][:-5], copied_dir)\n",
    "        _, name = name_parser(files[0])\n",
    "        torque_idx = torques.index(name.torque)\n",
    "        volts_idx = volts.index(name.volts)\n",
    "        data[torque_idx, volts_idx] = read_component_files(files, data_dir)\n",
    "        for file in files:\n",
    "            file_index = copied_dir.index(file)\n",
    "            copied_dir.pop(file_index)\n",
    "\n",
    "    return data"
   ]
  }
 ],
 "metadata": {
  "kernelspec": {
   "display_name": "Python 3 (ipykernel)",
   "language": "python",
   "name": "python3"
  },
  "language_info": {
   "codemirror_mode": {
    "name": "ipython",
    "version": 3
   },
   "file_extension": ".py",
   "mimetype": "text/x-python",
   "name": "python",
   "nbconvert_exporter": "python",
   "pygments_lexer": "ipython3",
   "version": "3.11.4"
  }
 },
 "nbformat": 4,
 "nbformat_minor": 5
}
